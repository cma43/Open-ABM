{
 "cells": [
  {
   "cell_type": "markdown",
   "metadata": {},
   "source": [
    "# Getting started with Open ABM"
   ]
  },
  {
   "cell_type": "markdown",
   "metadata": {},
   "source": [
    "First import oabm and import everything. "
   ]
  },
  {
   "cell_type": "code",
   "execution_count": 1,
   "metadata": {},
   "outputs": [],
   "source": [
    "from oabm_tools import *"
   ]
  },
  {
   "cell_type": "markdown",
   "metadata": {},
   "source": [
    "## Choosing a Model"
   ]
  },
  {
   "cell_type": "markdown",
   "metadata": {},
   "source": [
    "Open ABM has 13 models available for plug and play, built from MESA's introduction examples. While not necessary to start, we strongly recommend new users to eventually explore and read about MESA, as Open ABM streamlines and builds off of MESA's functionality: https://mesa.readthedocs.io/en/master/tutorials/intro_tutorial.html\n",
    "\n"
   ]
  },
  {
   "cell_type": "markdown",
   "metadata": {},
   "source": [
    "First choose an environment and find it's corresponding string name. To see all currently supported environments, run the check_models() method:"
   ]
  },
  {
   "cell_type": "code",
   "execution_count": 2,
   "metadata": {},
   "outputs": [
    {
     "name": "stdout",
     "output_type": "stream",
     "text": [
      "Conway-GOL\n",
      "Boid-Flockers\n",
      "Bank-Reserves\n",
      "Boltzmann-Wealth\n",
      "Boltzmann-Wealth-Network\n",
      "Epstein-Civil-Violence\n",
      "Forest-Fire\n",
      "Hex-Snowflake\n",
      "PD-Grid\n",
      "Schelling\n",
      "Sugarscape\n",
      "Virus-On-Network\n",
      "Wolf-Sheep\n",
      "BWT (Currently Unavailable)\n",
      "Cartel (Currently Unavailable)\n"
     ]
    }
   ],
   "source": [
    "check_models()"
   ]
  },
  {
   "cell_type": "markdown",
   "metadata": {},
   "source": [
    "After deciding on a model, use its string name to make an environment for your ABM. If server is set to True, a pop-up window in your local default internet browser will open up. If server is set to False, it will simply instantiate the environment for you. \n",
    "\n",
    "Note: If you would like to run other ABM models listed above, you will have to restart the kernel after specifying a different model. Additionally, if you would like to switch server mode to True, you will also have to restart the kernel each time you choose a different model. Otherwise, with server = False, you should be able to change models and rerun cells.\n",
    "\n",
    "If you would like to jump between environments, we recommend using our oabm_example.py file with a command line prompt."
   ]
  },
  {
   "cell_type": "code",
   "execution_count": 3,
   "metadata": {},
   "outputs": [
    {
     "name": "stdout",
     "output_type": "stream",
     "text": [
      "Bank-Reserves ABM imported, instantiating environment\n"
     ]
    }
   ],
   "source": [
    "env = make('Bank-Reserves', server = False)  "
   ]
  },
  {
   "cell_type": "code",
   "execution_count": 4,
   "metadata": {},
   "outputs": [
    {
     "data": {
      "text/plain": [
       "<examples.bank_reserves.bank_reserves.model.BankReserves at 0x26f5ac3deb8>"
      ]
     },
     "execution_count": 4,
     "metadata": {},
     "output_type": "execute_result"
    }
   ],
   "source": [
    "env.run_model() #Skip this cell if server = False (though it shouldn't hurt if you run it anyway)"
   ]
  },
  {
   "cell_type": "markdown",
   "metadata": {},
   "source": [
    "\n",
    "## Running the model"
   ]
  },
  {
   "cell_type": "raw",
   "metadata": {},
   "source": [
    "To run the model without pop-up for some number of steps, specify the number of steps you'd like to run the model in the 'run_model()' method."
   ]
  },
  {
   "cell_type": "code",
   "execution_count": 5,
   "metadata": {},
   "outputs": [],
   "source": [
    "model_run = env.run_model(10)"
   ]
  },
  {
   "cell_type": "markdown",
   "metadata": {},
   "source": [
    "To get a quick peek at your data, we can use the export_model_data method."
   ]
  },
  {
   "cell_type": "code",
   "execution_count": 6,
   "metadata": {},
   "outputs": [
    {
     "name": "stdout",
     "output_type": "stream",
     "text": [
      "     Rich  Poor  Middle Class  Savings  Wallets  Money  Loans\n",
      "0       0     0             2        0        6      6      0\n",
      "1       0     0             2        6        0      6      0\n",
      "2       0     0             2        6        0      6      0\n",
      "3       0     0             2        6        0      6      0\n",
      "4       0     0             2        6        0      6      0\n",
      "..    ...   ...           ...      ...      ...    ...    ...\n",
      "106     0     0             2        6        0      6      0\n",
      "107     0     0             2        6        0      6      0\n",
      "108     0     0             2        6        0      6      0\n",
      "109     0     0             2        6        0      6      0\n",
      "110     0     0             2        6        0      6      0\n",
      "\n",
      "[111 rows x 7 columns]\n"
     ]
    }
   ],
   "source": [
    "model_data = export_model_data(model_run)\n",
    "print(model_data)"
   ]
  },
  {
   "cell_type": "markdown",
   "metadata": {},
   "source": [
    "Next, using OABM one can easily get and set model and agent parameters."
   ]
  },
  {
   "cell_type": "markdown",
   "metadata": {},
   "source": [
    "## Adjusting Model Parameters"
   ]
  },
  {
   "cell_type": "markdown",
   "metadata": {},
   "source": [
    "Note: The rest of this walkthrough assumes the Bank-Reserves model, but one can interactively modify the code below to fit any other model listed in the introduction of this walkthrough. "
   ]
  },
  {
   "cell_type": "markdown",
   "metadata": {},
   "source": [
    "OABM provides a 'get' and 'set' method for setting existing model-level and agent-level attributes to different values. We'll demonstrate this by getting the current python dict of model attributes with their corresponding values, and changing an attribute (or parameter) called 'running' from True to False."
   ]
  },
  {
   "cell_type": "code",
   "execution_count": 7,
   "metadata": {},
   "outputs": [
    {
     "name": "stdout",
     "output_type": "stream",
     "text": [
      "{'_seed': 1575657055.957823, 'random': <random.Random object at 0x0000026F58E4B4B8>, 'height': 20, 'width': 20, 'init_people': 2, 'schedule': <mesa.time.RandomActivation object at 0x0000026F5AC3DF28>, 'grid': <mesa.space.MultiGrid object at 0x0000026F5AC3DF98>, 'rich_threshold': 10, 'reserve_percent': 50, 'num_steps': 10, 'server': False, 'datacollector': <mesa.datacollection.DataCollector object at 0x0000026F5AC53E10>, 'bank': <examples.bank_reserves.bank_reserves.agents.Bank object at 0x0000026F5AC539E8>, 'running': True}\n"
     ]
    }
   ],
   "source": [
    "new_model_params = get_model_parameters(env)\n",
    "print(new_model_params)"
   ]
  },
  {
   "cell_type": "code",
   "execution_count": 8,
   "metadata": {
    "scrolled": true
   },
   "outputs": [
    {
     "name": "stdout",
     "output_type": "stream",
     "text": [
      "{'_seed': 1575657055.957823, 'random': <random.Random object at 0x0000026F58E4B4B8>, 'height': 20, 'width': 20, 'init_people': 2, 'schedule': <mesa.time.RandomActivation object at 0x0000026F5AC3DF28>, 'grid': <mesa.space.MultiGrid object at 0x0000026F5AC3DF98>, 'rich_threshold': 10, 'reserve_percent': 50, 'num_steps': 10, 'server': False, 'datacollector': <mesa.datacollection.DataCollector object at 0x0000026F5AC53E10>, 'bank': <examples.bank_reserves.bank_reserves.agents.Bank object at 0x0000026F5AC539E8>, 'running': False}\n"
     ]
    }
   ],
   "source": [
    "new_stuff = {'running': False}\n",
    "model = set_model_parameters(env, new_stuff)\n",
    "\n",
    "print(get_model_parameters(model))"
   ]
  },
  {
   "cell_type": "markdown",
   "metadata": {},
   "source": [
    "## Adjusting Agent parameters"
   ]
  },
  {
   "cell_type": "markdown",
   "metadata": {},
   "source": [
    "Next we walk through the 'get' and 'set' methods for agent-level paramters. First we access all agent parameters from the environment."
   ]
  },
  {
   "cell_type": "code",
   "execution_count": 9,
   "metadata": {},
   "outputs": [],
   "source": [
    "agent_params = get_agent_parameters(env)"
   ]
  },
  {
   "cell_type": "code",
   "execution_count": 10,
   "metadata": {},
   "outputs": [
    {
     "name": "stdout",
     "output_type": "stream",
     "text": [
      "defaultdict(<function nested_dict at 0x0000026F5AC4A510>, {0: {'unique_id': 0, 'model': <examples.bank_reserves.bank_reserves.model.BankReserves object at 0x0000026F5AC3DEB8>, 'pos': (2, 7), 'moore': True, 'savings': 0, 'loans': 0, 'wallet': 0, 'wealth': 0, 'customer': 0, 'bank': <examples.bank_reserves.bank_reserves.agents.Bank object at 0x0000026F5AC539E8>}, 1: {'unique_id': 1, 'model': <examples.bank_reserves.bank_reserves.model.BankReserves object at 0x0000026F5AC3DEB8>, 'pos': (8, 15), 'moore': True, 'savings': 6, 'loans': 0, 'wallet': 0, 'wealth': 6, 'customer': 0, 'bank': <examples.bank_reserves.bank_reserves.agents.Bank object at 0x0000026F5AC539E8>}})\n"
     ]
    }
   ],
   "source": [
    "print(agent_params)"
   ]
  },
  {
   "cell_type": "markdown",
   "metadata": {},
   "source": [
    "Next we created a nested dictionary, where the key for each entry corresponds to the unique ID of a particular agent in the ABM. Below, we make a nested dictionary that picks out agents 0 and 1, and assigns a new value to their parameter called 'moore'. From there, we simply pass the env object containing our ABM with this new parameter dictionary which tells which agents to change and how we should change them. "
   ]
  },
  {
   "cell_type": "code",
   "execution_count": 11,
   "metadata": {},
   "outputs": [],
   "source": [
    "new_param = {0: {'moore':False}, 1: {'moore': False}}\n",
    "\n",
    "new_model = set_agent_parameters(env, new_param)"
   ]
  },
  {
   "cell_type": "markdown",
   "metadata": {},
   "source": [
    "Finally, we use the corresponding 'get' methods to get the agent paramters from our new model, change the parameters again, and check that the changes we wanted were reflected. "
   ]
  },
  {
   "cell_type": "code",
   "execution_count": 12,
   "metadata": {},
   "outputs": [
    {
     "name": "stdout",
     "output_type": "stream",
     "text": [
      "False\n",
      "False\n",
      "True\n",
      "False\n"
     ]
    }
   ],
   "source": [
    "print(get_agent_parameters(new_model)[1]['moore']) \n",
    "print(get_agent_parameters(new_model)[0]['moore']) \n",
    "\n",
    "new_param = {0: {'moore':False}, 1: {'moore': True}}\n",
    "new_model = set_agent_parameters(env, new_param)\n",
    "\n",
    "print(get_agent_parameters(new_model)[1]['moore']) \n",
    "print(get_agent_parameters(new_model)[0]['moore']) "
   ]
  },
  {
   "cell_type": "markdown",
   "metadata": {},
   "source": [
    "## Adjusting data collection"
   ]
  },
  {
   "cell_type": "markdown",
   "metadata": {},
   "source": [
    "Using OABM, users can also easily change what data they wanted collected, and at what level of the ABM they want to collect data at, i.e., the model- and agent-level. "
   ]
  },
  {
   "cell_type": "markdown",
   "metadata": {},
   "source": [
    "Note that users can specify any combination of existing attributes that they would like to collect data for, or they can specify their own functions they would like to use for data collection, and pass either to our 'set' and 'get' data collection methods."
   ]
  },
  {
   "cell_type": "markdown",
   "metadata": {},
   "source": [
    "First we write a simple function (copied from a MESA example) which we would like to use to collect data in our ABM."
   ]
  },
  {
   "cell_type": "code",
   "execution_count": 13,
   "metadata": {},
   "outputs": [],
   "source": [
    "def get_total_savings(model):\n",
    "    \"\"\"sum of all agents' savings\"\"\"\n",
    "\n",
    "    agent_savings = [a.savings for a in model.schedule.agents]\n",
    "    # return the sum of agents' savings\n",
    "    return np.sum(agent_savings)"
   ]
  },
  {
   "cell_type": "markdown",
   "metadata": {},
   "source": [
    "Next we make a dict object that associates the name we would like to use in our dataset with either a function (as written above) or with an existing attribute in the simulation we would like to collect data for. "
   ]
  },
  {
   "cell_type": "code",
   "execution_count": 14,
   "metadata": {},
   "outputs": [],
   "source": [
    "model_data = {\"Savings\": get_total_savings, 'Number Of Steps': 'num_steps'}\n",
    "env = set_data_collection(env, False, True, model_data_to_collect= model_data) #NOTE: important to specify _to_collect variant\n",
    "model_run = env.run_model(10)"
   ]
  },
  {
   "cell_type": "markdown",
   "metadata": {},
   "source": [
    "Finally, we export the simulated data and see if the ABM properly collected the data we wanted. Note that all returned datasets take the form of a Pandas dataframe."
   ]
  },
  {
   "cell_type": "code",
   "execution_count": 15,
   "metadata": {},
   "outputs": [
    {
     "name": "stdout",
     "output_type": "stream",
     "text": [
      "   Savings  Number Of Steps\n",
      "0        6               10\n",
      "1        6               10\n",
      "2        6               10\n",
      "3        6               10\n",
      "4        6               10\n",
      "5        6               10\n",
      "6        6               10\n",
      "7        6               10\n",
      "8        6               10\n",
      "9        6               10\n"
     ]
    }
   ],
   "source": [
    "#Export and see head of sim data:\n",
    "model_data = export_model_data(model_run)\n",
    "print(model_data) \n"
   ]
  },
  {
   "cell_type": "markdown",
   "metadata": {},
   "source": [
    "## Changing Step Functions for Agents and Models"
   ]
  },
  {
   "cell_type": "markdown",
   "metadata": {},
   "source": [
    "For agents and models, first we will go through OABM's getter and setter methods for accessing agent- and model-level step() functions. In short, each agent has a step() function that describes what actions the agent will take for each time step. Similarly, model instances describe what functions to execute at the model level of the ABM. \n",
    "\n",
    "For more information and examples on step() functions and their role in an ABM, see MESA's tutorial: https://mesa.readthedocs.io/en/master/tutorials/intro_tutorial.html."
   ]
  },
  {
   "cell_type": "markdown",
   "metadata": {},
   "source": [
    "For both sections below, we will walk through using OABM's getter methods for seeing a current ABM's step functions, and then we will walk through using OABM's setter methods for modifying agent- and model-level step functions. Note that it may be easier to go directly to the source code for the agents or the model, as most step functions depend on other functions that are written in the source code for agent or model classes. "
   ]
  },
  {
   "cell_type": "markdown",
   "metadata": {},
   "source": [
    "### Changing Step Functions for Agents"
   ]
  },
  {
   "cell_type": "markdown",
   "metadata": {},
   "source": [
    "We will continue using the same model as above, stored in the 'env' instance. Note that from MESA, every model instance has a scheduler which keeps track of and executes agent actions. "
   ]
  },
  {
   "cell_type": "code",
   "execution_count": 16,
   "metadata": {},
   "outputs": [
    {
     "name": "stdout",
     "output_type": "stream",
     "text": [
      "def step(self):\n",
      "    # move to a cell in my Moore neighborhood\n",
      "    self.random_move()\n",
      "    # trade\n",
      "    self.do_business()\n",
      "    # deposit money or take out a loan\n",
      "    self.balance_books()\n",
      "    # updat the bank's reserves and the amount it can loan right now\n",
      "    self.bank.bank_balance()\n"
     ]
    },
    {
     "data": {
      "text/plain": [
       "[(131,\n",
       "  \"def step(self):\\n    # move to a cell in my Moore neighborhood\\n    self.random_move()\\n    # trade\\n    self.do_business()\\n    # deposit money or take out a loan\\n    self.balance_books()\\n    # updat the bank's reserves and the amount it can loan right now\\n    self.bank.bank_balance()\")]"
      ]
     },
     "execution_count": 16,
     "metadata": {},
     "output_type": "execute_result"
    }
   ],
   "source": [
    "get_agent_step(env.schedule.agents)"
   ]
  },
  {
   "cell_type": "markdown",
   "metadata": {},
   "source": [
    "Now we will make a stand-in step function to illustrate how one uses the setter method for setting agent step functions. "
   ]
  },
  {
   "cell_type": "code",
   "execution_count": 17,
   "metadata": {},
   "outputs": [],
   "source": [
    "def new_step(self): \n",
    "    print('Success!')\n",
    "    return "
   ]
  },
  {
   "cell_type": "markdown",
   "metadata": {},
   "source": [
    "Next, we specify a dictionary with agents' unique IDs as the keys, and the associated step function as the value for that key. Note that every time we use a setter method for assigning new step functions, our function returns the updated model object that we initially passed the function."
   ]
  },
  {
   "cell_type": "code",
   "execution_count": 18,
   "metadata": {},
   "outputs": [],
   "source": [
    "new_agent_dict = {0: new_step}"
   ]
  },
  {
   "cell_type": "code",
   "execution_count": 19,
   "metadata": {},
   "outputs": [
    {
     "data": {
      "text/plain": [
       "<examples.bank_reserves.bank_reserves.model.BankReserves at 0x26f5ac3deb8>"
      ]
     },
     "execution_count": 19,
     "metadata": {},
     "output_type": "execute_result"
    }
   ],
   "source": [
    "set_agent_step(new_agent_dict, env)"
   ]
  },
  {
   "cell_type": "markdown",
   "metadata": {},
   "source": [
    "Alternatively, if you would like to assign all agents the same step function, all you have to do is pass the following:"
   ]
  },
  {
   "cell_type": "code",
   "execution_count": 20,
   "metadata": {},
   "outputs": [],
   "source": [
    "# new_agent_dict = {env.schedule.agents: new_step} #TODO"
   ]
  },
  {
   "cell_type": "code",
   "execution_count": 21,
   "metadata": {},
   "outputs": [
    {
     "data": {
      "text/plain": [
       "<examples.bank_reserves.bank_reserves.model.BankReserves at 0x26f5ac3deb8>"
      ]
     },
     "execution_count": 21,
     "metadata": {},
     "output_type": "execute_result"
    }
   ],
   "source": [
    "set_agent_step(new_agent_dict, env)"
   ]
  },
  {
   "cell_type": "markdown",
   "metadata": {},
   "source": [
    "### Changing Step Functions for Models"
   ]
  },
  {
   "cell_type": "markdown",
   "metadata": {},
   "source": [
    "Similar to above, all we need to do is pass a model instance to 'get_model_step' in order to see what its "
   ]
  },
  {
   "cell_type": "code",
   "execution_count": 22,
   "metadata": {},
   "outputs": [
    {
     "name": "stdout",
     "output_type": "stream",
     "text": [
      "def step(self):\n",
      "    # tell all the agents in the model to run their step function\n",
      "    self.schedule.step()\n",
      "    # collect data\n",
      "    self.datacollector.collect(self)\n",
      "\n",
      "def run_model(self, n = None):\n",
      "    if n:\n",
      "        self.num_steps = n\n",
      "    if self.server == False:\n",
      "        for _ in range(self.num_steps):\n",
      "            self.step()\n",
      "            \n",
      "        return self\n",
      "    else:\n",
      "        \n",
      "        from .server import server\n",
      "\n",
      "        server.launch()\n",
      "<class 'examples.bank_reserves.bank_reserves.model.BankReserves'>\n"
     ]
    },
    {
     "data": {
      "text/plain": [
       "'def step(self):\\n    # tell all the agents in the model to run their step function\\n    self.schedule.step()\\n    # collect data\\n    self.datacollector.collect(self)\\n\\ndef run_model(self, n = None):\\n    if n:\\n        self.num_steps = n\\n    if self.server == False:\\n        for _ in range(self.num_steps):\\n            self.step()\\n            \\n        return self\\n    else:\\n        \\n        from .server import server\\n\\n        server.launch()'"
      ]
     },
     "execution_count": 22,
     "metadata": {},
     "output_type": "execute_result"
    }
   ],
   "source": [
    "get_model_step(env)"
   ]
  },
  {
   "cell_type": "markdown",
   "metadata": {},
   "source": [
    "Next we will write a simple step function and show how to pass it with a model instance to 'set_model_step'."
   ]
  },
  {
   "cell_type": "code",
   "execution_count": 23,
   "metadata": {},
   "outputs": [],
   "source": [
    "def new_step(self): \n",
    "    print('Success!')\n",
    "    return "
   ]
  },
  {
   "cell_type": "code",
   "execution_count": 24,
   "metadata": {},
   "outputs": [
    {
     "data": {
      "text/plain": [
       "<examples.bank_reserves.bank_reserves.model.BankReserves at 0x26f5ac3deb8>"
      ]
     },
     "execution_count": 24,
     "metadata": {},
     "output_type": "execute_result"
    }
   ],
   "source": [
    "set_model_step(env, new_step)"
   ]
  },
  {
   "cell_type": "markdown",
   "metadata": {},
   "source": [
    "## Future Releases"
   ]
  },
  {
   "cell_type": "markdown",
   "metadata": {},
   "source": [
    "With these methods in hand, you can now run 11 different models and start to customize them. In the future, OABM plans to release methods for modularized visualization and interaction, as well as methods for analysis based on emulators and reinforcement learning-based optimization for agents. In the meantime, you have access to all source code for these environments, so you can tweak or build your own environments and still apply OABM as long as they follow similar structure. Also planned for future updates is to allow for easy construction of ABMs with similar levels of complexity as our first 11 models, and to introduce a few more realistic ABMs for common use cases in the social sciences. "
   ]
  },
  {
   "cell_type": "markdown",
   "metadata": {},
   "source": [
    "Feel free to use this Jupyter notebook as a way to explore and get familiar with the other 11 environments!"
   ]
  }
 ],
 "metadata": {
  "kernelspec": {
   "display_name": "Python 3",
   "language": "python",
   "name": "python3"
  },
  "language_info": {
   "codemirror_mode": {
    "name": "ipython",
    "version": 3
   },
   "file_extension": ".py",
   "mimetype": "text/x-python",
   "name": "python",
   "nbconvert_exporter": "python",
   "pygments_lexer": "ipython3",
   "version": "3.6.7"
  }
 },
 "nbformat": 4,
 "nbformat_minor": 2
}
